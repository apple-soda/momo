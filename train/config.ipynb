{
 "cells": [
  {
   "cell_type": "code",
   "execution_count": 19,
   "id": "38ca7f2a-dc17-4aeb-aee1-37cfa9eef291",
   "metadata": {},
   "outputs": [],
   "source": [
    "import json\n",
    "import os\n",
    "from easydict import EasyDict as edict"
   ]
  },
  {
   "cell_type": "code",
   "execution_count": 6,
   "id": "b45b734b-f2e8-47c7-a9df-001228962347",
   "metadata": {},
   "outputs": [
    {
     "data": {
      "text/plain": [
       "'C:\\\\Users\\\\minha\\\\Github\\\\reinforcement-learning\\\\train'"
      ]
     },
     "execution_count": 6,
     "metadata": {},
     "output_type": "execute_result"
    }
   ],
   "source": [
    "os.getcwd()"
   ]
  },
  {
   "cell_type": "code",
   "execution_count": 12,
   "id": "18ca52d2-adc6-4109-a046-0b2abf7dabcc",
   "metadata": {},
   "outputs": [],
   "source": [
    "import torch"
   ]
  },
  {
   "cell_type": "code",
   "execution_count": 16,
   "id": "079205a7-c11e-4512-8c40-bf1beae954ef",
   "metadata": {},
   "outputs": [],
   "source": [
    "with open('../configs/ppo4.json', 'r') as f:\n",
    "    config = json.load(f)"
   ]
  },
  {
   "cell_type": "code",
   "execution_count": 20,
   "id": "268a36e9-597b-49af-ac30-42b93a498b66",
   "metadata": {},
   "outputs": [],
   "source": [
    "config = edict(config)"
   ]
  },
  {
   "cell_type": "code",
   "execution_count": 22,
   "id": "b0dd9a26-239e-4216-81b5-d0e8a9c1cb1a",
   "metadata": {},
   "outputs": [
    {
     "data": {
      "text/plain": [
       "0"
      ]
     },
     "execution_count": 22,
     "metadata": {},
     "output_type": "execute_result"
    }
   ],
   "source": [
    "config.device"
   ]
  },
  {
   "cell_type": "code",
   "execution_count": 23,
   "id": "71298d46-76a0-49eb-82ec-0570e53c7ee9",
   "metadata": {},
   "outputs": [],
   "source": [
    "name = 'agent04'"
   ]
  },
  {
   "cell_type": "code",
   "execution_count": 24,
   "id": "c4831f17-2a07-4ddf-9b8d-5a0cc34ec748",
   "metadata": {},
   "outputs": [
    {
     "name": "stdout",
     "output_type": "stream",
     "text": [
      "runs/agent04\n"
     ]
    }
   ],
   "source": [
    "print(f'runs/{name}')"
   ]
  },
  {
   "cell_type": "code",
   "execution_count": null,
   "id": "57388ecb-e16f-4c53-9d75-d204d5190cff",
   "metadata": {},
   "outputs": [],
   "source": []
  }
 ],
 "metadata": {
  "kernelspec": {
   "display_name": "Python 3 (ipykernel)",
   "language": "python",
   "name": "python3"
  },
  "language_info": {
   "codemirror_mode": {
    "name": "ipython",
    "version": 3
   },
   "file_extension": ".py",
   "mimetype": "text/x-python",
   "name": "python",
   "nbconvert_exporter": "python",
   "pygments_lexer": "ipython3",
   "version": "3.8.12"
  }
 },
 "nbformat": 4,
 "nbformat_minor": 5
}
